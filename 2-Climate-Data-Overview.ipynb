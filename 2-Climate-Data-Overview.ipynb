{
 "cells": [
  {
   "cell_type": "markdown",
   "metadata": {},
   "source": [
    "# Python and NetCDF climate data\n",
    "Unlike MatLab, Python does not have native support for multidimensional NetCDF datasets. Instead, we have to import a few specific packages into our script and do a few extra steps to manipulate the data. The notebook below demonstrates the steps needed to import, link variables representing the different dimensions, and run simple analyses on netCDF data.  \n",
    "\n",
    "In the example here, we'll use daily precipitation predictions downscaled to a 1/16-degree resolution spanning the years 1990 to 2005. Thus, our data has 4 dimensions: `latitude`, `longitude`, `time`, and `precipitation`. *(Actually, the dataset has a 5th \"dimension\" as well, but this only includes data on the geographic coordinate reference system and has only one value, so we'll ignore it)*. \n",
    "\n",
    "Resources: \n",
    "* http://www.ceda.ac.uk/static/media/uploads/ncas-reading-2015/10_read_netcdf_python.pdf"
   ]
  },
  {
   "cell_type": "markdown",
   "metadata": {},
   "source": [
    "## 1. Import the `.nc` data file into our Python script as netCDF4 `dataset` object\n",
    "The Python *NetCDF4* package allows us to read in our `.nc` file into a NetCDF4 `dataset` object that we can manipulate programmatically. Documentation on the NetCDF4 package is here: http://unidata.github.io/netcdf4-python/, and it displays the various *properties* and *methods* of the `dataset` object. "
   ]
  },
  {
   "cell_type": "code",
   "execution_count": 1,
   "metadata": {},
   "outputs": [],
   "source": [
    "#Import package to read netCDF file\n",
    "import netCDF4"
   ]
  },
  {
   "cell_type": "code",
   "execution_count": 2,
   "metadata": {},
   "outputs": [],
   "source": [
    "#Read the file into a netCDF dataset object\n",
    "fileName = 'macav2livneh_pr_bcc-csm1-1_r1i1p1_historical_1990_2005_CONUS_monthly.nc'\n",
    "dataset = netCDF4.Dataset(fileName)"
   ]
  },
  {
   "cell_type": "code",
   "execution_count": 3,
   "metadata": {},
   "outputs": [
    {
     "data": {
      "text/plain": [
       "netCDF4._netCDF4.Dataset"
      ]
     },
     "execution_count": 3,
     "metadata": {},
     "output_type": "execute_result"
    }
   ],
   "source": [
    "#Confirm that the `dataset` variable points to a netCDF4 dataset object\n",
    "type(dataset)"
   ]
  },
  {
   "cell_type": "code",
   "execution_count": 4,
   "metadata": {},
   "outputs": [],
   "source": [
    "#Show some documentation on the `dataset` object\n",
    "?dataset"
   ]
  },
  {
   "cell_type": "code",
   "execution_count": 5,
   "metadata": {},
   "outputs": [
    {
     "data": {
      "text/plain": [
       "'NETCDF4'"
      ]
     },
     "execution_count": 5,
     "metadata": {},
     "output_type": "execute_result"
    }
   ],
   "source": [
    "dataset.file_format"
   ]
  },
  {
   "cell_type": "markdown",
   "metadata": {},
   "source": [
    "## 2. Explore out netCDF dataset\n",
    "With our dataset object created, we can explore a bit about the data within it and its structure. Specifically, we'll examine what <u>dimensions</u>, <u>variables</u>, and <u>attributes</u> are contained within the dataset"
   ]
  },
  {
   "cell_type": "markdown",
   "metadata": {},
   "source": [
    "### 2.1 Dimensions\n",
    "The dimensions in our dataset are accessed as a Python **dictionary**, which is a collection of values referenced by specific keys. Here, each dimension is listed as a *key*, and to get information about that dimension, we \"look up\" its definition in the dictionary: "
   ]
  },
  {
   "cell_type": "code",
   "execution_count": 6,
   "metadata": {},
   "outputs": [
    {
     "data": {
      "text/plain": [
       "OrderedDict([('lat',\n",
       "              <class 'netCDF4._netCDF4.Dimension'>: name = 'lat', size = 444),\n",
       "             ('lon',\n",
       "              <class 'netCDF4._netCDF4.Dimension'>: name = 'lon', size = 922),\n",
       "             ('time',\n",
       "              <class 'netCDF4._netCDF4.Dimension'>: name = 'time', size = 192),\n",
       "             ('crs',\n",
       "              <class 'netCDF4._netCDF4.Dimension'>: name = 'crs', size = 1)])"
      ]
     },
     "execution_count": 6,
     "metadata": {},
     "output_type": "execute_result"
    }
   ],
   "source": [
    "#Show the full dimensions dictionary\n",
    "dataset.dimensions"
   ]
  },
  {
   "cell_type": "code",
   "execution_count": 7,
   "metadata": {},
   "outputs": [
    {
     "data": {
      "text/plain": [
       "odict_keys(['lat', 'lon', 'time', 'crs'])"
      ]
     },
     "execution_count": 7,
     "metadata": {},
     "output_type": "execute_result"
    }
   ],
   "source": [
    "#Show just the keys, or dimensions, in the dataset\n",
    "dataset.dimensions.keys()"
   ]
  },
  {
   "cell_type": "code",
   "execution_count": 8,
   "metadata": {},
   "outputs": [
    {
     "data": {
      "text/plain": [
       "<class 'netCDF4._netCDF4.Dimension'>: name = 'time', size = 192"
      ]
     },
     "execution_count": 8,
     "metadata": {},
     "output_type": "execute_result"
    }
   ],
   "source": [
    "#Show the values associated with the `time` dimension\n",
    "dataset.dimensions['time']"
   ]
  },
  {
   "cell_type": "markdown",
   "metadata": {},
   "source": [
    "► *<u>Now you try it</u>: Show the values associated with the \"lat\" dimension. How many items are in this dimension? How many in the 'lon' and 'crs' dimensions?*"
   ]
  },
  {
   "cell_type": "code",
   "execution_count": 9,
   "metadata": {},
   "outputs": [
    {
     "data": {
      "text/plain": [
       "<class 'netCDF4._netCDF4.Dimension'>: name = 'lat', size = 444"
      ]
     },
     "execution_count": 9,
     "metadata": {},
     "output_type": "execute_result"
    }
   ],
   "source": [
    "dataset.dimensions['lat']"
   ]
  },
  {
   "cell_type": "markdown",
   "metadata": {},
   "source": [
    "Summing up, we see our dataset has 4 dimensions: \n",
    "* `lat` with 444 values\n",
    "* `lon` with 922 values\n",
    "* `time` with 192 values, and \n",
    "* a coordinate reference system (`crs`) with one value"
   ]
  },
  {
   "cell_type": "markdown",
   "metadata": {},
   "source": [
    "### 2.2 Variables\n",
    "Like dimensions, the dataset's variables are accessed as dictionary objects. First let's list all the variables contained in our datset by exposing the \"keys\" included in the dictionary. \n",
    "Our dataset has 5 variables:"
   ]
  },
  {
   "cell_type": "code",
   "execution_count": 10,
   "metadata": {},
   "outputs": [
    {
     "data": {
      "text/plain": [
       "odict_keys(['lat', 'lon', 'time', 'precipitation', 'crs'])"
      ]
     },
     "execution_count": 10,
     "metadata": {},
     "output_type": "execute_result"
    }
   ],
   "source": [
    "#Show the 'key' or names of the variables\n",
    "dataset.variables.keys()"
   ]
  },
  {
   "cell_type": "markdown",
   "metadata": {},
   "source": [
    "We see many of the same names as the dimensions, but also a *precipitation* variable. \n",
    "* `lat`\n",
    "* `lon`\n",
    "* `time`\n",
    "* `precipitation`\n",
    "* `crs`"
   ]
  },
  {
   "cell_type": "code",
   "execution_count": 11,
   "metadata": {},
   "outputs": [
    {
     "data": {
      "text/plain": [
       "<class 'netCDF4._netCDF4.Variable'>\n",
       "float32 precipitation(time, lat, lon)\n",
       "    _FillValue: -9999.0\n",
       "    long_name: Monthly Precipitation Amount\n",
       "    units: mm\n",
       "    grid_mapping: crs\n",
       "    standard_name: precipitation\n",
       "    cell_methods: time: sum(interval: 24 hours): sum over days\n",
       "    coordinates: time lon lat\n",
       "    comments: Total monthly precipitation at surface: includes both liquid and solid phases from all types of clouds (both large-scale and convective)\n",
       "unlimited dimensions: \n",
       "current shape = (192, 444, 922)\n",
       "filling on"
      ]
     },
     "execution_count": 11,
     "metadata": {},
     "output_type": "execute_result"
    }
   ],
   "source": [
    "#Show attributes of the precipitation variable\n",
    "dataset.variables['precipitation']"
   ]
  },
  {
   "cell_type": "markdown",
   "metadata": {},
   "source": [
    "### 2.3 Attributes\n",
    "NetCDF datasets have both global attributes and attributes associated with each variable. Here's how we explore what attributes are included in each and how to access information on each attribute"
   ]
  },
  {
   "cell_type": "markdown",
   "metadata": {},
   "source": [
    "#### 2.3.1 Global attributes\n",
    "Listing the datset's **global** attributes is done bit differently than the process for dimensions and variables. Here, the `ncattrs()` function returns a list of the dataset's global attributes. Then we can display more information on any of these attributes using the `getattr()` function. "
   ]
  },
  {
   "cell_type": "code",
   "execution_count": 12,
   "metadata": {
    "collapsed": true
   },
   "outputs": [
    {
     "data": {
      "text/plain": [
       "['description',\n",
       " 'id',\n",
       " 'naming_authority',\n",
       " 'Metadata_Conventions',\n",
       " 'Metadata_Link',\n",
       " 'cdm_data_type',\n",
       " 'title',\n",
       " 'summary',\n",
       " 'keywords',\n",
       " 'keywords_vocabulary',\n",
       " 'standard_name_vocabulary',\n",
       " 'comment',\n",
       " 'license',\n",
       " 'geospatial_bounds',\n",
       " 'geospatial_lat_min',\n",
       " 'geospatial_lat_max',\n",
       " 'geospatial_lon_min',\n",
       " 'geospatial_lon_max',\n",
       " 'geospatial_lat_units',\n",
       " 'geospatial_lon_units',\n",
       " 'geospatial_lat_resolution',\n",
       " 'geospatial_lon_resolution',\n",
       " 'geospatial_vertical_min',\n",
       " 'geospatial_vertical_max',\n",
       " 'geospatial_vertical_resolution',\n",
       " 'geospatial_vertical_positive',\n",
       " 'time_coverage_start',\n",
       " 'time_coverage_end',\n",
       " 'time_coverage_duration',\n",
       " 'time_coverage_resolution',\n",
       " 'date_created',\n",
       " 'date_issued',\n",
       " 'creator_name',\n",
       " 'creator_url',\n",
       " 'creator_email',\n",
       " 'institution',\n",
       " 'processing_level',\n",
       " 'project',\n",
       " 'contributor_name',\n",
       " 'contributor_role',\n",
       " 'publisher_name',\n",
       " 'publisher_email',\n",
       " 'publisher_url',\n",
       " 'NCO',\n",
       " 'history',\n",
       " 'date_modified',\n",
       " 'coordinate_system']"
      ]
     },
     "execution_count": 12,
     "metadata": {},
     "output_type": "execute_result"
    }
   ],
   "source": [
    "#List the dataset's attributes\n",
    "dataset.ncattrs()"
   ]
  },
  {
   "cell_type": "code",
   "execution_count": 13,
   "metadata": {},
   "outputs": [
    {
     "data": {
      "text/plain": [
       "'This archive contains downscaled meteorological and hydrological projections for the Conterminous United States at 1/16-deg resolution utilizing the Multivariate Adaptive Constructed Analogs (MACA, Abatzoglou, 2012) statistical downscaling method with the Livneh et al (2013) training dataset. The downscaled meteorological variables are maximum/minimum temperature(tasmax/tasmin), precipitation amount(pr), downward shortwave solar radiation(rsds), wind speed(was), and specific humidity(huss). The downscaling is based on the 365-day model outputs from different global climate models (GCMs) from Phase 5 of the Coupled Model Inter-comparison Project (CMIP3) utlizing the historical (1950-2005) and future RCP4.5/8.5(2006-2099) scenarios. Leap days have been added to the dataset from the average values between Feb 28 and Mar 1 in order to aid modellers.'"
      ]
     },
     "execution_count": 13,
     "metadata": {},
     "output_type": "execute_result"
    }
   ],
   "source": [
    "#Display information stored in the `summary` attribute\n",
    "dataset.summary"
   ]
  },
  {
   "cell_type": "markdown",
   "metadata": {},
   "source": [
    "#### 2.3.2 Variable attributes\n",
    "Now we'll focus on the attributes of a single variable in our datatset. We'll choose the `precipitation` variable. "
   ]
  },
  {
   "cell_type": "code",
   "execution_count": 14,
   "metadata": {},
   "outputs": [
    {
     "data": {
      "text/plain": [
       "['_FillValue',\n",
       " 'long_name',\n",
       " 'units',\n",
       " 'grid_mapping',\n",
       " 'standard_name',\n",
       " 'cell_methods',\n",
       " 'coordinates',\n",
       " 'comments']"
      ]
     },
     "execution_count": 14,
     "metadata": {},
     "output_type": "execute_result"
    }
   ],
   "source": [
    "#List the precipitation variable's attributes\n",
    "dataset.variables['precipitation'].ncattrs()"
   ]
  },
  {
   "cell_type": "code",
   "execution_count": 15,
   "metadata": {},
   "outputs": [
    {
     "data": {
      "text/plain": [
       "'time: sum(interval: 24 hours): sum over days'"
      ]
     },
     "execution_count": 15,
     "metadata": {},
     "output_type": "execute_result"
    }
   ],
   "source": [
    "#Reveal the information associated with the \"cell_methods\" attribute\n",
    "dataset.variables['precipitation'].cell_methods"
   ]
  },
  {
   "cell_type": "markdown",
   "metadata": {},
   "source": [
    "*There's a lot going on in the above statements. It works, but it can be hard to read for the newbie. One of the advantanges of Python code is its readability, but this only works of coders write the code to be readable. So, let's rewrite the above statement so that it's more readable. It appears less \"efficient\", but sometimes readability is better than terseness.*"
   ]
  },
  {
   "cell_type": "code",
   "execution_count": 16,
   "metadata": {},
   "outputs": [
    {
     "data": {
      "text/plain": [
       "['_FillValue',\n",
       " 'long_name',\n",
       " 'units',\n",
       " 'grid_mapping',\n",
       " 'standard_name',\n",
       " 'cell_methods',\n",
       " 'coordinates',\n",
       " 'comments']"
      ]
     },
     "execution_count": 16,
     "metadata": {},
     "output_type": "execute_result"
    }
   ],
   "source": [
    "#Pull the precipitation variable into a Python variable called \"precip\"\n",
    "precip = dataset.variables['precipitation']\n",
    "#Now list its attributes\n",
    "precip.ncattrs()"
   ]
  },
  {
   "cell_type": "markdown",
   "metadata": {},
   "source": [
    "With the `precip` Python variable established, we can use it to display attribute contents directly"
   ]
  },
  {
   "cell_type": "code",
   "execution_count": null,
   "metadata": {},
   "outputs": [],
   "source": [
    "precip._FillValue"
   ]
  },
  {
   "cell_type": "markdown",
   "metadata": {},
   "source": [
    "---\n",
    "## 3. Working with the data\n",
    "With some familiarity of what's in the dataset, we can now start manipulating and visualizing the data..."
   ]
  },
  {
   "cell_type": "markdown",
   "metadata": {},
   "source": [
    "### 3.1 Import the variables into netCDF4 `variable` objects\n",
    "Let's now break our dataset into its component variables so that we can work with each more easily. Here, we assign Python variables to the four dataset variables: `time`, `latitute`, `longitude`, and `precipitation`. (We'll ignore the `crs` variable as that contains only one value, a metadata value listing the coordinate system used.) Then, we'll quickly examine some properties of these variable objects. "
   ]
  },
  {
   "cell_type": "code",
   "execution_count": 17,
   "metadata": {},
   "outputs": [],
   "source": [
    "#Read the variables in NETCDF file\n",
    "ncTime = dataset.variables['time']\n",
    "ncLon = dataset.variables['lon']\n",
    "ncLat = dataset.variables['lat']\n",
    "ncPrecip = dataset.variables['precipitation']"
   ]
  },
  {
   "cell_type": "code",
   "execution_count": 18,
   "metadata": {},
   "outputs": [
    {
     "data": {
      "text/plain": [
       "netCDF4._netCDF4.Variable"
      ]
     },
     "execution_count": 18,
     "metadata": {},
     "output_type": "execute_result"
    }
   ],
   "source": [
    "#Confirm that these objects are netCDF4 variables\n",
    "type(ncPrecip)"
   ]
  },
  {
   "cell_type": "code",
   "execution_count": 19,
   "metadata": {},
   "outputs": [],
   "source": [
    "#Display what we can do with a variable object\n",
    "?ncPrecip"
   ]
  },
  {
   "cell_type": "code",
   "execution_count": 20,
   "metadata": {},
   "outputs": [
    {
     "data": {
      "text/plain": [
       "<class 'netCDF4._netCDF4.Variable'>\n",
       "float32 precipitation(time, lat, lon)\n",
       "    _FillValue: -9999.0\n",
       "    long_name: Monthly Precipitation Amount\n",
       "    units: mm\n",
       "    grid_mapping: crs\n",
       "    standard_name: precipitation\n",
       "    cell_methods: time: sum(interval: 24 hours): sum over days\n",
       "    coordinates: time lon lat\n",
       "    comments: Total monthly precipitation at surface: includes both liquid and solid phases from all types of clouds (both large-scale and convective)\n",
       "unlimited dimensions: \n",
       "current shape = (192, 444, 922)\n",
       "filling on"
      ]
     },
     "execution_count": 20,
     "metadata": {},
     "output_type": "execute_result"
    }
   ],
   "source": [
    "#What if we just display everything about the variable?\n",
    "ncPrecip"
   ]
  },
  {
   "cell_type": "markdown",
   "metadata": {},
   "source": [
    "► *<u>Now you try it</u>: Recalling how we revealed the attributes of the `precip` variable above, what are the units of the `time` variable? The `lat` and `lon` variables?*"
   ]
  },
  {
   "cell_type": "code",
   "execution_count": 21,
   "metadata": {},
   "outputs": [
    {
     "data": {
      "text/plain": [
       "('days since 1900-01-01 00:00:00', 'degrees_north', 'degrees_east')"
      ]
     },
     "execution_count": 21,
     "metadata": {},
     "output_type": "execute_result"
    }
   ],
   "source": [
    "ncTime.units, ncLat.units, ncLon.units"
   ]
  },
  {
   "cell_type": "markdown",
   "metadata": {},
   "source": [
    "**Variable shape**: These four variables are all <u>arrays</u>, i.e. a series of values set across one or or more dimensions. We can examine the size and dimensions of each variable via its `shape` property:"
   ]
  },
  {
   "cell_type": "code",
   "execution_count": 22,
   "metadata": {},
   "outputs": [
    {
     "data": {
      "text/plain": [
       "(192,)"
      ]
     },
     "execution_count": 22,
     "metadata": {},
     "output_type": "execute_result"
    }
   ],
   "source": [
    "ncTime.shape"
   ]
  },
  {
   "cell_type": "code",
   "execution_count": 23,
   "metadata": {},
   "outputs": [
    {
     "data": {
      "text/plain": [
       "(444,)"
      ]
     },
     "execution_count": 23,
     "metadata": {},
     "output_type": "execute_result"
    }
   ],
   "source": [
    "ncLat.shape"
   ]
  },
  {
   "cell_type": "code",
   "execution_count": 24,
   "metadata": {},
   "outputs": [
    {
     "data": {
      "text/plain": [
       "(922,)"
      ]
     },
     "execution_count": 24,
     "metadata": {},
     "output_type": "execute_result"
    }
   ],
   "source": [
    "ncLon.shape"
   ]
  },
  {
   "cell_type": "code",
   "execution_count": 25,
   "metadata": {},
   "outputs": [
    {
     "data": {
      "text/plain": [
       "(192, 444, 922)"
      ]
     },
     "execution_count": 25,
     "metadata": {},
     "output_type": "execute_result"
    }
   ],
   "source": [
    "ncPrecip.shape"
   ]
  },
  {
   "cell_type": "markdown",
   "metadata": {},
   "source": [
    "**Note** that the size of the three dimensions of the `precip` variable corresponds to the size of the `time`, `lat`, and `lon` variables, respectively. <u>*This gives a more tangible sense of how these data are structured and how we can manipulate our data.*</u>\n",
    "\n",
    "More specifically, we see that the data in the `precip` variable is 3 dimensional. The first dimension is time, and the other two dimensions are x-y coordinates in space. So we can <u>envision our data as a stack of precipitation maps, with each layer in the stack as precipitation values for a single time snapshot.</u> This helps us in subsetting our data...\n",
    "\n",
    "What may not be clear here is: *what then are the `time`, `lat`, and `lon` variables, if everything is held in the one `precip` variable?* This has everything to do with the fact that the actual data (i.e., the amount of precipitation) are referenced by their *index position* in the array, as we'll see in a moment. It'd be confusing to explain this in more detail at the moment. Instead, let's move a bit further with the data and then we'll come back to this. \n"
   ]
  },
  {
   "cell_type": "markdown",
   "metadata": {},
   "source": [
    "---\n",
    "### 3.2 Extracting data from our variables"
   ]
  },
  {
   "cell_type": "markdown",
   "metadata": {},
   "source": [
    "#### 3.2.1 Extract a single value (i.e. single location-time value)\n",
    "The `precip` variable has 3 axes: `time`,`lat`, and `lon`, with sizes of 192, 444, and 922, respectively. And the value at a given time/geographic coordinate is the predicted rainfall at that specific time/location. We can extract a specific precipitation value by specifying a `time`, `lat`, and `lon` value:"
   ]
  },
  {
   "cell_type": "code",
   "execution_count": 26,
   "metadata": {},
   "outputs": [
    {
     "name": "stdout",
     "output_type": "stream",
     "text": [
      "37.11904\n"
     ]
    }
   ],
   "source": [
    "print(ncPrecip[0,250,300])"
   ]
  },
  {
   "cell_type": "markdown",
   "metadata": {},
   "source": [
    "The interpolated precipitation at that time/location is `37 mm`. \n",
    "\n",
    "<u>But what time and location did we actually specify??</u> *What is time=0?? Likewise, a latitude of \"250\" and a longitude of \"300\" are not really geographic coordinates.* \n",
    "\n",
    "These values are actually pointers to the **positions** in the precipitation array, that is, the 1st time slice, the 251st \"latitude\" column, and the 301st \"longitude\" column - if you think of our precipitation array as a stack of lat/long tables, with a layer for each time. (Also note that Python indices are zero-based, meaning the values start at zero, not 1.)\n",
    "\n",
    "**So how, then, do we extract data for a known time and/or location?** Well, those data are contained in the other arrays, with positions corresponding to the axes in the precipitation array:"
   ]
  },
  {
   "cell_type": "code",
   "execution_count": 27,
   "metadata": {},
   "outputs": [
    {
     "name": "stdout",
     "output_type": "stream",
     "text": [
      "32864.0\n",
      "40.78125\n",
      "254.15625\n"
     ]
    }
   ],
   "source": [
    "print(ncTime[0])\n",
    "print(ncLat[250])\n",
    "print(ncLon[300])"
   ]
  },
  {
   "cell_type": "markdown",
   "metadata": {},
   "source": [
    "So, we see that the precipitation value extracted above is associated with the location (`40.71824°N`,`254.15625°W`) and the time \"`32864`\"??!?\n",
    "\n",
    "That time value is actually days since 01-01-1990 (found in the datasets metadata):"
   ]
  },
  {
   "cell_type": "code",
   "execution_count": 28,
   "metadata": {},
   "outputs": [
    {
     "data": {
      "text/plain": [
       "'days since 1900-01-01 00:00:00'"
      ]
     },
     "execution_count": 28,
     "metadata": {},
     "output_type": "execute_result"
    }
   ],
   "source": [
    "ncTime.units"
   ]
  },
  {
   "cell_type": "markdown",
   "metadata": {},
   "source": [
    "And we have tools to conver this into a more readable format:"
   ]
  },
  {
   "cell_type": "code",
   "execution_count": 29,
   "metadata": {},
   "outputs": [
    {
     "data": {
      "text/plain": [
       "datetime.datetime(1989, 12, 24, 0, 0)"
      ]
     },
     "execution_count": 29,
     "metadata": {},
     "output_type": "execute_result"
    }
   ],
   "source": [
    "#Create a new array, converting days since 1900 to a date time value\n",
    "ncTime2 = netCDF4.num2date(ncTime[:],ncTime.units)\n",
    "ncTime2[0]"
   ]
  },
  {
   "cell_type": "markdown",
   "metadata": {},
   "source": [
    "And we see the first time slice is Dec 12, 1989. "
   ]
  },
  {
   "cell_type": "markdown",
   "metadata": {},
   "source": [
    "So now what we have to do is somehow cross-reference the *values* in the `time2`, `lat`, and `lon` arrays with the *axes* in the precipitation array. In doing so, we can more easily extract values we want and run various analyses on the data. "
   ]
  },
  {
   "cell_type": "markdown",
   "metadata": {},
   "source": [
    "## 4. Python's NumPy (numeric Python) package"
   ]
  },
  {
   "cell_type": "markdown",
   "metadata": {},
   "source": [
    "### 4.1 Converting the netCDF4 variable into NumPy arrays\n",
    "The process to do this involves converting each of our NetCDF variabls into numeric arrays which then allows us to use Python's **NumPy** package to do exactly what we need to do..."
   ]
  },
  {
   "cell_type": "code",
   "execution_count": 30,
   "metadata": {},
   "outputs": [],
   "source": [
    "#Import the numpy package, calling it \"np\" to save typing\n",
    "import numpy as np"
   ]
  },
  {
   "cell_type": "code",
   "execution_count": 31,
   "metadata": {},
   "outputs": [],
   "source": [
    "#Convert the NetCDF variables to numpy arrays \n",
    "arrTime = ncTime2[:].astype(np.datetime64)\n",
    "arrLat = ncLat[:]\n",
    "arrLon = ncLon[:]\n",
    "arrPrecip = ncPrecip[:]"
   ]
  },
  {
   "cell_type": "code",
   "execution_count": 32,
   "metadata": {},
   "outputs": [
    {
     "data": {
      "text/plain": [
       "numpy.ma.core.MaskedArray"
      ]
     },
     "execution_count": 32,
     "metadata": {},
     "output_type": "execute_result"
    }
   ],
   "source": [
    "#Show the type of object created\n",
    "type(arrPrecip)"
   ]
  },
  {
   "cell_type": "markdown",
   "metadata": {},
   "source": [
    "### 4.2 Working with NumPy arrays\n",
    "The netCDF variables were converted to Numpy *masked arrays*. This means that, in addition to the N-dimensional numeric array, we have an associated n-dimensional array, but one with boolean values that indicate whether the data should be used in calculations or not.  "
   ]
  },
  {
   "cell_type": "code",
   "execution_count": 33,
   "metadata": {},
   "outputs": [
    {
     "data": {
      "text/plain": [
       "(192, 444, 922)"
      ]
     },
     "execution_count": 33,
     "metadata": {},
     "output_type": "execute_result"
    }
   ],
   "source": [
    "#Show the shape of the precip array\n",
    "arrPrecip.shape"
   ]
  },
  {
   "cell_type": "markdown",
   "metadata": {},
   "source": [
    "Numpy arrays work much like the netCDF variables in terms of querying values using their position..."
   ]
  },
  {
   "cell_type": "code",
   "execution_count": 34,
   "metadata": {},
   "outputs": [
    {
     "data": {
      "text/plain": [
       "37.11904"
      ]
     },
     "execution_count": 34,
     "metadata": {},
     "output_type": "execute_result"
    }
   ],
   "source": [
    "arrPrecip[0,250,300]"
   ]
  },
  {
   "cell_type": "code",
   "execution_count": 35,
   "metadata": {},
   "outputs": [
    {
     "data": {
      "text/plain": [
       "numpy.datetime64('1989-12-24T00:00:00.000000')"
      ]
     },
     "execution_count": 35,
     "metadata": {},
     "output_type": "execute_result"
    }
   ],
   "source": [
    "arrTime[0]"
   ]
  },
  {
   "cell_type": "code",
   "execution_count": 36,
   "metadata": {},
   "outputs": [
    {
     "data": {
      "text/plain": [
       "40.78125"
      ]
     },
     "execution_count": 36,
     "metadata": {},
     "output_type": "execute_result"
    }
   ],
   "source": [
    "arrLat[250]"
   ]
  },
  {
   "cell_type": "code",
   "execution_count": 37,
   "metadata": {},
   "outputs": [
    {
     "data": {
      "text/plain": [
       "254.15625"
      ]
     },
     "execution_count": 37,
     "metadata": {},
     "output_type": "execute_result"
    }
   ],
   "source": [
    "arrLon[300]"
   ]
  },
  {
   "cell_type": "markdown",
   "metadata": {},
   "source": [
    "### 4.3 Subsetting our data\n",
    "With our variable stored as NumPy arrays, we can use NumPy methods to slice our data across time and/or space. We'll begin simply by just [blindly] using raw position values (i.e. not actual times or lat/long coordinates) to do first a time series plot and then a simple map for a single time slice. "
   ]
  },
  {
   "cell_type": "markdown",
   "metadata": {},
   "source": [
    "#### 4.3.1 Time series for one location\n",
    "To extract precipitation across all time for one location (here we'll choose the `lat` at position `250` and the lon at postition `300`), we use a colon to say \"grab all values\" at the first axis (`time`), then then specific values for the `lat` and `lon` axes. "
   ]
  },
  {
   "cell_type": "code",
   "execution_count": 40,
   "metadata": {},
   "outputs": [],
   "source": [
    "#Grab all the precip data at location lat=200 and lon=300\n",
    "arrPrecipLocX = arrPrecip[:,250,300]"
   ]
  },
  {
   "cell_type": "code",
   "execution_count": 41,
   "metadata": {},
   "outputs": [
    {
     "data": {
      "text/plain": [
       "(192,)"
      ]
     },
     "execution_count": 41,
     "metadata": {},
     "output_type": "execute_result"
    }
   ],
   "source": [
    "#What is the shape of the result: should be 192 \n",
    "arrPrecipLocX.shape"
   ]
  },
  {
   "cell_type": "code",
   "execution_count": 42,
   "metadata": {},
   "outputs": [
    {
     "data": {
      "text/plain": [
       "array([ 37.11904 ,  64.036575,  45.392483, 122.75209 , 121.195694,\n",
       "        19.678436,  25.675114,  75.88427 ,  42.54946 ,  56.04633 ],\n",
       "      dtype=float32)"
      ]
     },
     "execution_count": 42,
     "metadata": {},
     "output_type": "execute_result"
    }
   ],
   "source": [
    "#Show the first 10 values in the resulting array\n",
    "arrPrecipLocX[0:10].data"
   ]
  },
  {
   "cell_type": "markdown",
   "metadata": {},
   "source": [
    "#### 4.3.2 Plotting - with NumPy & <u>MatPlotLib</u>\n",
    "We use another library for plotting. Python has a few, but as you are likely familiar with Matlab, we'll use `matplotlib` which was desinged after Matlab's plotting procedures. "
   ]
  },
  {
   "cell_type": "code",
   "execution_count": 43,
   "metadata": {},
   "outputs": [],
   "source": [
    "#Import the pyplot subpackage and enable inline plotting\n",
    "from matplotlib import pyplot as plt\n",
    "%matplotlib inline"
   ]
  },
  {
   "cell_type": "code",
   "execution_count": 44,
   "metadata": {},
   "outputs": [
    {
     "data": {
      "image/png": "[encoded data removed]",
      "text/plain": [
       "<Figure size 1080x216 with 1 Axes>"
      ]
     },
     "metadata": {},
     "output_type": "display_data"
    }
   ],
   "source": [
    "#Plot as a time series\n",
    "fig = plt.figure(figsize=(15,3))\n",
    "plt.plot(arrPrecipLocX);"
   ]
  },
  {
   "cell_type": "code",
   "execution_count": 46,
   "metadata": {},
   "outputs": [
    {
     "data": {
      "image/png": "[encoded data removed]",
      "text/plain": [
       "<Figure size 1080x216 with 1 Axes>"
      ]
     },
     "metadata": {},
     "output_type": "display_data"
    }
   ],
   "source": [
    "#Plot time series for three points long a longitudinal transect\n",
    "fig = plt.figure(figsize=(15,3))\n",
    "plt.plot(arrPrecip[:,250,300])\n",
    "plt.plot(arrPrecip[:,300,300])\n",
    "plt.plot(arrPrecip[:,350,300])\n",
    "plt.show();"
   ]
  },
  {
   "cell_type": "markdown",
   "metadata": {},
   "source": [
    "#### 4.3.3 Creating a location matrix for a single point in time, or average across all times"
   ]
  },
  {
   "cell_type": "code",
   "execution_count": 47,
   "metadata": {},
   "outputs": [
    {
     "data": {
      "text/plain": [
       "(444, 922)"
      ]
     },
     "execution_count": 47,
     "metadata": {},
     "output_type": "execute_result"
    }
   ],
   "source": [
    "#Pull precip data for all lat/lon dimensions for the most recent record\n",
    "arrPrecipRecent = arrPrecip[-1,:,:]\n",
    "arrPrecipRecent.shape"
   ]
  },
  {
   "cell_type": "code",
   "execution_count": 50,
   "metadata": {},
   "outputs": [
    {
     "data": {
      "text/plain": [
       "(444, 922)"
      ]
     },
     "execution_count": 50,
     "metadata": {},
     "output_type": "execute_result"
    }
   ],
   "source": [
    "#Or, compute the mean across all time values (time = axis zero)\n",
    "arrPrecipMean = arrPrecip.mean(axis=0)\n",
    "arrPrecipMean.shape"
   ]
  },
  {
   "cell_type": "code",
   "execution_count": 51,
   "metadata": {},
   "outputs": [
    {
     "data": {
      "text/plain": [
       "(50, 100)"
      ]
     },
     "execution_count": 51,
     "metadata": {},
     "output_type": "execute_result"
    }
   ],
   "source": [
    "#Or, compute the mean across all time values (time = axis zero) for a spatial subset\n",
    "arrPrecipMeanSubset = arrPrecip[:,250:300,300:400].mean(axis=0)\n",
    "arrPrecipMeanSubset.shape"
   ]
  },
  {
   "cell_type": "markdown",
   "metadata": {},
   "source": [
    "#### 4.3.4 Plotting in two dimensions\n",
    "Matplotlib's `imshow` function allows us to plot images, i.e., data stored with X/Y coordinates, as we have. "
   ]
  },
  {
   "cell_type": "code",
   "execution_count": 57,
   "metadata": {},
   "outputs": [
    {
     "data": {
      "image/png": "[encoded data removed]",
      "text/plain": [
       "<Figure size 1080x360 with 3 Axes>"
      ]
     },
     "metadata": {},
     "output_type": "display_data"
    }
   ],
   "source": [
    "fig = plt.figure(figsize=(15,5))\n",
    "plt.subplot(1,2,1)\n",
    "plt.imshow(arrPrecipMean,origin=(0,0),cmap=\"YlGnBu\")\n",
    "plt.subplot(1,2,2)\n",
    "plt.imshow(arrPrecipMeanSubset,origin=(0,0),cmap=\"YlGnBu\")\n",
    "plt.colorbar();"
   ]
  },
  {
   "cell_type": "markdown",
   "metadata": {},
   "source": [
    "---\n",
    "## 5. Pandas\n",
    "**Numpy** works great for computations on n-dimensional arrays, but the axes are still a bit befuddling as they can only be accessed via position, not actual time stamps or actual lat-long coordinates. You can see that easily in the map we just created: the coordinates are *image* coordinates, not geographic ones (e.g. degrees north and degrees east). \n",
    "\n",
    "Numpy has a companion Python package called **Pandas** (a contraction of *Pan*el *Da*ta) that overcomes this issue by allowing us to store and manipulate our data in **data frames**. The key difference [for us] between *Numpy's ndarrays* and *Pandas' dataframes* is the ability to name and label columns and rows so we can move beyond just integer indices. \n",
    "\n",
    "The drawback, however, is that dataframes require data to be stored in two dimensions, i.e., in rows and columns. (There are ways around that, using something called a hierarchical multiindex, but more on that later...). "
   ]
  },
  {
   "cell_type": "markdown",
   "metadata": {},
   "source": [
    "### 5.1 Reducing and converting our NumPy arrays to Pandas dataframes\n",
    "Anyway, let's convert our Numpy arrays to Pandas dataframes. Of course, before we can do that, we need to ***reduce*** our data to two or fewer dimensions. We've done that above, creating the time series dataset (by reducing the lat and lon dimensions to a single location), and by creating the mapped dataset (by reducing the time dimension to a single point in time or by averaging all time values into one value.)  "
   ]
  },
  {
   "cell_type": "code",
   "execution_count": null,
   "metadata": {},
   "outputs": [],
   "source": [
    "#Import pandas\n",
    "import pandas as pd"
   ]
  },
  {
   "cell_type": "markdown",
   "metadata": {},
   "source": [
    "#### 5.1.1 Full process from netCDF4 variable to 2d Pandas dataframes\n",
    "Let's review the whole process..."
   ]
  },
  {
   "cell_type": "code",
   "execution_count": null,
   "metadata": {},
   "outputs": [],
   "source": [
    "#Pull the precip variable from the netCDF dataset\n",
    "precip = dataset.variables['precipitation']"
   ]
  },
  {
   "cell_type": "code",
   "execution_count": null,
   "metadata": {},
   "outputs": [],
   "source": [
    "#Convert the netCDF variable to a 3-d numpy array\n",
    "arrPrecip = precip[:]\n",
    "arrPrecip.shape"
   ]
  },
  {
   "cell_type": "code",
   "execution_count": null,
   "metadata": {},
   "outputs": [],
   "source": [
    "#Reduce the 3d array to a 1d array\n",
    "arrTimeSeries = arrPrecip[:,250,300]\n",
    "arrTimeSeries.shape"
   ]
  },
  {
   "cell_type": "code",
   "execution_count": null,
   "metadata": {},
   "outputs": [],
   "source": [
    "#Reduce the 3d array to a 2d array, collapsing the time dimension into average values\n",
    "arrMeanPrecip = arrPrecip.mean(axis=0)\n",
    "arrMeanPrecip.shape"
   ]
  },
  {
   "cell_type": "code",
   "execution_count": null,
   "metadata": {},
   "outputs": [],
   "source": [
    "#Convert the 1d time series array to a dataframe\n",
    "dfTimeSeries=pd.DataFrame(arrTimeSeries)\n",
    "dfTimeSeries.shape"
   ]
  },
  {
   "cell_type": "code",
   "execution_count": null,
   "metadata": {},
   "outputs": [],
   "source": [
    "#Display the first 5 records\n",
    "dfTimeSeries.head()"
   ]
  },
  {
   "cell_type": "code",
   "execution_count": null,
   "metadata": {},
   "outputs": [],
   "source": [
    "#Convert the 2d mean values to a dataframe\n",
    "dfMeanPrecip=pd.DataFrame(arrMeanPrecip)\n",
    "dfMeanPrecip.shape"
   ]
  },
  {
   "cell_type": "code",
   "execution_count": null,
   "metadata": {},
   "outputs": [],
   "source": [
    "#Display the first 5 records of the \n",
    "dfMeanPrecip.head()"
   ]
  },
  {
   "cell_type": "markdown",
   "metadata": {},
   "source": [
    "***Note that the rows and columns remain as simple integers, not actual times or lat/long coordinates***. We'll use the other netCDF variable to assign those values..."
   ]
  },
  {
   "cell_type": "code",
   "execution_count": null,
   "metadata": {},
   "outputs": [],
   "source": [
    "#Convert the time, lat, and lon variables to Pandas dataframes\n",
    "dfTime = pd.DataFrame(netCDF4.num2date(time[:],time.units))\n",
    "ncTime = dataset.variables['time']"
   ]
  },
  {
   "cell_type": "markdown",
   "metadata": {},
   "source": [
    "#### 4.3.3 Selecting a *slice* of time\n",
    "With our data in Pandas dataframe and the actual times set as the index, we can select, subset, or **slice** our data on actual times. We can do this by creating Boolean <u>masks</u> fitting our time constraints. Below we'll make two masks, one for all records after 1995 and one for all records before 2003. Then we'll combine these "
   ]
  },
  {
   "cell_type": "code",
   "execution_count": null,
   "metadata": {},
   "outputs": [],
   "source": [
    "#Subset the data\n",
    "df_subset = df_timeseries[(df_timeseries.index > '1998') & \n",
    "                          (df_timeseries.index < '2004')]"
   ]
  },
  {
   "cell_type": "code",
   "execution_count": null,
   "metadata": {},
   "outputs": [],
   "source": [
    "#Plot the subset\n",
    "fig = plt.figure(figsize=(15,3))\n",
    "plt.plot(df_subset);"
   ]
  },
  {
   "cell_type": "markdown",
   "metadata": {},
   "source": [
    "#### 4.2.2 Creating a map for one time slice\n",
    "What if we fix time and then plot data across space? Well create a 2d array for one time snapshot and then map it."
   ]
  },
  {
   "cell_type": "code",
   "execution_count": null,
   "metadata": {},
   "outputs": [],
   "source": [
    "#Grab the lat & lon dimensions for the first time series\n",
    "precip_t0 = arrPrecip[0,:,:]\n",
    "precip_t0.shape"
   ]
  },
  {
   "cell_type": "code",
   "execution_count": null,
   "metadata": {},
   "outputs": [],
   "source": [
    "#Let's again convert to a Pandas dataframe\n",
    "df_t0 = pd.DataFrame(precip_t0)"
   ]
  },
  {
   "cell_type": "code",
   "execution_count": null,
   "metadata": {},
   "outputs": [],
   "source": [
    "#Set the column names to be longitude\n",
    "df_t0.columns = arrLon.data"
   ]
  },
  {
   "cell_type": "code",
   "execution_count": null,
   "metadata": {},
   "outputs": [],
   "source": [
    "#Set the row indices to be latitudes\n",
    "df_t0.index= arrLat.data"
   ]
  },
  {
   "cell_type": "code",
   "execution_count": null,
   "metadata": {},
   "outputs": [],
   "source": [
    "import matplotlib.image as mpimg"
   ]
  },
  {
   "cell_type": "code",
   "execution_count": null,
   "metadata": {},
   "outputs": [],
   "source": [
    "fig = plt.figure(figsize=(15,5))\n",
    "plt.imshow(df_t0,origin=(0,0),cmap=\"YlGnBu\")\n",
    "plt.colorbar();"
   ]
  },
  {
   "cell_type": "markdown",
   "metadata": {},
   "source": [
    "---"
   ]
  },
  {
   "cell_type": "markdown",
   "metadata": {},
   "source": [
    "#### Spatial & temporal subsets"
   ]
  },
  {
   "cell_type": "code",
   "execution_count": null,
   "metadata": {},
   "outputs": [],
   "source": [
    "lonMask = 235 < arrLon & arrLon < 240\n",
    "latMask = 25 < arrLat #and arrLat < 30\n",
    "timeMask = np.datetime64('1999-01-01') < arrTime #and (arrTime < np.datetime64('1999-05-01'))"
   ]
  },
  {
   "cell_type": "code",
   "execution_count": null,
   "metadata": {},
   "outputs": [],
   "source": [
    "timeAvg = precip[timeMask,:,:].mean(axis=0)"
   ]
  },
  {
   "cell_type": "code",
   "execution_count": null,
   "metadata": {},
   "outputs": [],
   "source": [
    "plt.scatter(arrLon, arrLat, c=timeAvg, s=15, edgecolors='none')\n",
    "plt.colorbar()\n",
    "plt.scatter(x+1, y, c=z_masked, s=15, edgecolors='none')\n",
    "plt.colorbar()\n",
    "plt.show()"
   ]
  },
  {
   "cell_type": "code",
   "execution_count": null,
   "metadata": {},
   "outputs": [],
   "source": [
    "df = pd.DataFrame(arrPrecip.sum(axis=0)).T\n",
    "df.columns=arrLat.tolist()\n",
    "df['LON']=arrLon.tolist()\n",
    "df.head()"
   ]
  },
  {
   "cell_type": "code",
   "execution_count": null,
   "metadata": {},
   "outputs": [],
   "source": [
    "dfX = pd.melt(df,id_vars='LON',var_name='LAT',value_name='Precip')"
   ]
  },
  {
   "cell_type": "code",
   "execution_count": null,
   "metadata": {},
   "outputs": [],
   "source": [
    "dfX.dtypes"
   ]
  },
  {
   "cell_type": "code",
   "execution_count": null,
   "metadata": {},
   "outputs": [],
   "source": [
    "#Return the dimension size of the variable precip\n",
    "[ntime,nlat,nlon] = dataset.variables['precipitation'].shape\n",
    "print(ntime,\" time values\")\n",
    "print(nlat,\" latitude values\")\n",
    "print(nlon,\" longitude values\")"
   ]
  },
  {
   "cell_type": "code",
   "execution_count": null,
   "metadata": {},
   "outputs": [],
   "source": [
    "#Show the dimensions of the other variables\n",
    "print(\"Time: \",time.shape)\n",
    "print(\"Latitude: \",lat.shape)\n",
    "print(\"Longitude: \",lon.shape)"
   ]
  },
  {
   "cell_type": "code",
   "execution_count": null,
   "metadata": {},
   "outputs": [],
   "source": []
  },
  {
   "cell_type": "markdown",
   "metadata": {},
   "source": [
    "# Plotting\n",
    "With our data as numpy arrays we can now plot, using the Python `matplotlib` package.\n",
    "\n",
    "Info on colors, etc can be found here:<br>https://matplotlib.org/examples/color/colormaps_reference.html"
   ]
  },
  {
   "cell_type": "markdown",
   "metadata": {},
   "source": [
    "#### Plotting - with MatPlotLib & <u>Pandas</u> \n",
    "The above plot shows the time series, but the axes are still just row positions, not actual time. NumPy is greate for manipulating data stored in n-dimensional arrays, but it has limitations. Moving our data from a NumPy array into a **Pandas DataFrame** offers more functionality, including the ability to move our `arrTime` array as the index of our time series data. Doing so allows us to use actual times as our X-axis ticks."
   ]
  },
  {
   "cell_type": "code",
   "execution_count": null,
   "metadata": {},
   "outputs": [],
   "source": [
    "#Import Pandas\n",
    "import pandas as pd"
   ]
  },
  {
   "cell_type": "code",
   "execution_count": null,
   "metadata": {},
   "outputs": [],
   "source": [
    "#Convert our NumPy Array to a Pandas dataframe\n",
    "df_timeseries=pd.DataFrame(precip_timeseries)"
   ]
  },
  {
   "cell_type": "code",
   "execution_count": null,
   "metadata": {},
   "outputs": [],
   "source": [
    "#Set the index of the time series to be \n",
    "df_timeseries.index=arrTime"
   ]
  },
  {
   "cell_type": "code",
   "execution_count": null,
   "metadata": {
    "scrolled": true
   },
   "outputs": [],
   "source": [
    "#Plot the values in the dataframe\n",
    "fig = plt.figure(figsize=(15,3))\n",
    "plt.plot(df_timeseries);"
   ]
  },
  {
   "cell_type": "code",
   "execution_count": null,
   "metadata": {},
   "outputs": [],
   "source": [
    "#Import the plotting components\n",
    "import matplotlib.pyplot as plt\n",
    "import matplotlib.image as mpimg\n",
    "%matplotlib inline"
   ]
  },
  {
   "cell_type": "code",
   "execution_count": null,
   "metadata": {},
   "outputs": [],
   "source": [
    "#Plot a map for a selected time slice\n",
    "plt.figure(figsize=(20,8))\n",
    "plt.imshow(timeAvg,origin=(0,0),cmap=\"YlGnBu\")\n",
    "plt.colorbar();"
   ]
  },
  {
   "cell_type": "code",
   "execution_count": null,
   "metadata": {},
   "outputs": [],
   "source": [
    "#Plot a map for a selected geographic slice\n",
    "minLat = 36; maxLat = 56\n",
    "minLon = 220; maxLon = 260\n",
    "latMask = (arrLat > minLat) & (arrLat < maxLat)\n",
    "lonMask = (arrLon > minLon) & (arrLon < maxLon)"
   ]
  },
  {
   "cell_type": "code",
   "execution_count": null,
   "metadata": {},
   "outputs": [],
   "source": [
    "dfGeog = precip[:,latMask,lonMask].mean(axis=0)\n",
    "dfGeog.shape"
   ]
  },
  {
   "cell_type": "code",
   "execution_count": null,
   "metadata": {},
   "outputs": [],
   "source": [
    "xTcs = arrLon[lonMask].data\n",
    "yTcs = arrLat[latMask].data\n"
   ]
  },
  {
   "cell_type": "code",
   "execution_count": null,
   "metadata": {},
   "outputs": [],
   "source": [
    "plt.figure(figsize=(20,8))\n",
    "plt.imshow(dfGeog,origin=(0,0),cmap=\"YlGnBu\")\n",
    "plt.xticks(np.arange(xTcs.size,step=25),xTcs)\n",
    "plt.yticks(np.arange(yTcs.size,step=25),yTcs)\n",
    "plt.colorbar();"
   ]
  },
  {
   "cell_type": "markdown",
   "metadata": {},
   "source": [
    "Now, let's move on to making our own masks. Here"
   ]
  },
  {
   "cell_type": "code",
   "execution_count": null,
   "metadata": {},
   "outputs": [],
   "source": [
    "#Display the bounds of each axis\n",
    "print(\"Lat:\",arrLat.min(),arrLat.max())\n",
    "print(\"Lon:\",arrLon.min(),arrLon.max())\n",
    "print(\"Time:\",arrTime.min(),arrTime.max())"
   ]
  },
  {
   "cell_type": "code",
   "execution_count": null,
   "metadata": {},
   "outputs": [],
   "source": [
    "#Meshgrid\n",
    "mlon,mlat = np.meshgrid(arrLon,arrLat)"
   ]
  },
  {
   "cell_type": "code",
   "execution_count": null,
   "metadata": {},
   "outputs": [],
   "source": [
    "plt.figure(figsize=(10,10))\n",
    "plt.subplot(2,1,1)\n",
    "plt.contourf(mlon,mlat,precip[1,:,:],linestyles='none')\n",
    "plt.colorbar();\n",
    "plt.xlabel('Longitude')\n",
    "plt.ylabel('Latitude')\n",
    "\n",
    "plt.subplot(2,1,2)\n",
    "plt.contourf(mlon,mlat,precip[1,:,:],linestyles='none')\n",
    "plt.colorbar();\n",
    "plt.xlabel('Longitude')\n",
    "plt.ylabel('Latitude');\n"
   ]
  },
  {
   "cell_type": "code",
   "execution_count": null,
   "metadata": {},
   "outputs": [],
   "source": [
    "arrLat.shape,arrLon.shape,precip.shape"
   ]
  },
  {
   "cell_type": "code",
   "execution_count": null,
   "metadata": {},
   "outputs": [],
   "source": [
    "#Lat/lon slices\n",
    "latMask = (arrLat>30) & (arrLat<31)\n",
    "lonMask = (arrLon>230) & (arrLon<231)"
   ]
  },
  {
   "cell_type": "code",
   "execution_count": null,
   "metadata": {},
   "outputs": [],
   "source": [
    "#Lat/lon slices\n",
    "latMask = (mlat>30) & (mlat<31)\n",
    "lonMask = (mlon>230) & (mlon<231)\n",
    "latMask.shape,lonMask.shape"
   ]
  },
  {
   "cell_type": "code",
   "execution_count": null,
   "metadata": {},
   "outputs": [],
   "source": [
    "arrPrecip"
   ]
  }
 ],
 "metadata": {
  "kernelspec": {
   "display_name": "Python 3",
   "language": "python",
   "name": "python3"
  },
  "language_info": {
   "codemirror_mode": {
    "name": "ipython",
    "version": 3
   },
   "file_extension": ".py",
   "mimetype": "text/x-python",
   "name": "python",
   "nbconvert_exporter": "python",
   "pygments_lexer": "ipython3",
   "version": "3.5.4"
  }
 },
 "nbformat": 4,
 "nbformat_minor": 2
}

{
 "cells": [
  {
   "cell_type": "markdown",
   "metadata": {},
   "source": [
    "* https://scottwales.github.io/swc-climatedata/02-xarray/\n",
    "* https://geohackweek.github.io/nDarrays/02-xarray-architecture/"
   ]
  },
  {
   "cell_type": "code",
   "execution_count": 1,
   "metadata": {},
   "outputs": [],
   "source": [
    "import xarray as xr\n",
    "import numpy as np\n",
    "\n",
    "#%matplotlib inline "
   ]
  },
  {
   "cell_type": "code",
   "execution_count": 2,
   "metadata": {},
   "outputs": [],
   "source": [
    "fileName = 'macav2livneh_pr_bcc-csm1-1_r1i1p1_historical_1990_2005_CONUS_monthly.nc'"
   ]
  },
  {
   "cell_type": "code",
   "execution_count": 3,
   "metadata": {},
   "outputs": [
    {
     "ename": "TypeError",
     "evalue": "Error: C:\\Workspace\\Gits\\environ859\\SandBox\\wenhong\\macav2livneh_pr_bcc-csm1-1_r1i1p1_historical_1990_2005_CONUS_monthly.nc is not a valid NetCDF 3 file\n            If this is a NetCDF4 file, you may need to install the\n            netcdf4 library, e.g.,\n\n            $ pip install netcdf4\n            ",
     "output_type": "error",
     "traceback": [
      "\u001b[1;31m---------------------------------------------------------------------------\u001b[0m",
      "\u001b[1;31mTypeError\u001b[0m                                 Traceback (most recent call last)",
      "\u001b[1;32m~\\AppData\\Local\\ESRI\\conda\\envs\\clim8\\lib\\site-packages\\xarray\\backends\\scipy_.py\u001b[0m in \u001b[0;36m_open_scipy_netcdf\u001b[1;34m(filename, mode, mmap, version)\u001b[0m\n\u001b[0;32m     92\u001b[0m         return scipy.io.netcdf_file(filename, mode=mode, mmap=mmap,\n\u001b[1;32m---> 93\u001b[1;33m                                     version=version)\n\u001b[0m\u001b[0;32m     94\u001b[0m     \u001b[1;32mexcept\u001b[0m \u001b[0mTypeError\u001b[0m \u001b[1;32mas\u001b[0m \u001b[0me\u001b[0m\u001b[1;33m:\u001b[0m  \u001b[1;31m# netcdf3 message is obscure in this case\u001b[0m\u001b[1;33m\u001b[0m\u001b[0m\n",
      "\u001b[1;32m~\\AppData\\Local\\ESRI\\conda\\envs\\clim8\\lib\\site-packages\\scipy\\io\\netcdf.py\u001b[0m in \u001b[0;36m__init__\u001b[1;34m(self, filename, mode, mmap, version, maskandscale)\u001b[0m\n\u001b[0;32m    283\u001b[0m         \u001b[1;32mif\u001b[0m \u001b[0mmode\u001b[0m \u001b[1;32min\u001b[0m \u001b[1;34m'ra'\u001b[0m\u001b[1;33m:\u001b[0m\u001b[1;33m\u001b[0m\u001b[0m\n\u001b[1;32m--> 284\u001b[1;33m             \u001b[0mself\u001b[0m\u001b[1;33m.\u001b[0m\u001b[0m_read\u001b[0m\u001b[1;33m(\u001b[0m\u001b[1;33m)\u001b[0m\u001b[1;33m\u001b[0m\u001b[0m\n\u001b[0m\u001b[0;32m    285\u001b[0m \u001b[1;33m\u001b[0m\u001b[0m\n",
      "\u001b[1;32m~\\AppData\\Local\\ESRI\\conda\\envs\\clim8\\lib\\site-packages\\scipy\\io\\netcdf.py\u001b[0m in \u001b[0;36m_read\u001b[1;34m(self)\u001b[0m\n\u001b[0;32m    608\u001b[0m             raise TypeError(\"Error: %s is not a valid NetCDF 3 file\" %\n\u001b[1;32m--> 609\u001b[1;33m                             self.filename)\n\u001b[0m\u001b[0;32m    610\u001b[0m         \u001b[0mself\u001b[0m\u001b[1;33m.\u001b[0m\u001b[0m__dict__\u001b[0m\u001b[1;33m[\u001b[0m\u001b[1;34m'version_byte'\u001b[0m\u001b[1;33m]\u001b[0m \u001b[1;33m=\u001b[0m \u001b[0mfrombuffer\u001b[0m\u001b[1;33m(\u001b[0m\u001b[0mself\u001b[0m\u001b[1;33m.\u001b[0m\u001b[0mfp\u001b[0m\u001b[1;33m.\u001b[0m\u001b[0mread\u001b[0m\u001b[1;33m(\u001b[0m\u001b[1;36m1\u001b[0m\u001b[1;33m)\u001b[0m\u001b[1;33m,\u001b[0m \u001b[1;34m'>b'\u001b[0m\u001b[1;33m)\u001b[0m\u001b[1;33m[\u001b[0m\u001b[1;36m0\u001b[0m\u001b[1;33m]\u001b[0m\u001b[1;33m\u001b[0m\u001b[0m\n",
      "\u001b[1;31mTypeError\u001b[0m: Error: C:\\Workspace\\Gits\\environ859\\SandBox\\wenhong\\macav2livneh_pr_bcc-csm1-1_r1i1p1_historical_1990_2005_CONUS_monthly.nc is not a valid NetCDF 3 file",
      "\nDuring handling of the above exception, another exception occurred:\n",
      "\u001b[1;31mTypeError\u001b[0m                                 Traceback (most recent call last)",
      "\u001b[1;32m<ipython-input-3-5c4b73581d1b>\u001b[0m in \u001b[0;36m<module>\u001b[1;34m()\u001b[0m\n\u001b[0;32m      1\u001b[0m \u001b[1;31m#Create the XArray dataset object\u001b[0m\u001b[1;33m\u001b[0m\u001b[1;33m\u001b[0m\u001b[0m\n\u001b[1;32m----> 2\u001b[1;33m \u001b[0mds\u001b[0m \u001b[1;33m=\u001b[0m \u001b[0mxr\u001b[0m\u001b[1;33m.\u001b[0m\u001b[0mopen_dataset\u001b[0m\u001b[1;33m(\u001b[0m\u001b[0mfileName\u001b[0m\u001b[1;33m)\u001b[0m\u001b[1;33m\u001b[0m\u001b[0m\n\u001b[0m",
      "\u001b[1;32m~\\AppData\\Local\\ESRI\\conda\\envs\\clim8\\lib\\site-packages\\xarray\\backends\\api.py\u001b[0m in \u001b[0;36mopen_dataset\u001b[1;34m(filename_or_obj, group, decode_cf, mask_and_scale, decode_times, autoclose, concat_characters, decode_coords, engine, chunks, lock, cache, drop_variables, backend_kwargs)\u001b[0m\n\u001b[0;32m    322\u001b[0m             store = backends.ScipyDataStore(filename_or_obj,\n\u001b[0;32m    323\u001b[0m                                             \u001b[0mautoclose\u001b[0m\u001b[1;33m=\u001b[0m\u001b[0mautoclose\u001b[0m\u001b[1;33m,\u001b[0m\u001b[1;33m\u001b[0m\u001b[0m\n\u001b[1;32m--> 324\u001b[1;33m                                             **backend_kwargs)\n\u001b[0m\u001b[0;32m    325\u001b[0m         \u001b[1;32melif\u001b[0m \u001b[0mengine\u001b[0m \u001b[1;33m==\u001b[0m \u001b[1;34m'pydap'\u001b[0m\u001b[1;33m:\u001b[0m\u001b[1;33m\u001b[0m\u001b[0m\n\u001b[0;32m    326\u001b[0m             store = backends.PydapDataStore.open(filename_or_obj,\n",
      "\u001b[1;32m~\\AppData\\Local\\ESRI\\conda\\envs\\clim8\\lib\\site-packages\\xarray\\backends\\scipy_.py\u001b[0m in \u001b[0;36m__init__\u001b[1;34m(self, filename_or_obj, mode, format, group, writer, mmap, autoclose, lock)\u001b[0m\n\u001b[0;32m    144\u001b[0m                                    \u001b[0mfilename\u001b[0m\u001b[1;33m=\u001b[0m\u001b[0mfilename_or_obj\u001b[0m\u001b[1;33m,\u001b[0m\u001b[1;33m\u001b[0m\u001b[0m\n\u001b[0;32m    145\u001b[0m                                    mode=mode, mmap=mmap, version=version)\n\u001b[1;32m--> 146\u001b[1;33m         \u001b[0mself\u001b[0m\u001b[1;33m.\u001b[0m\u001b[0m_ds\u001b[0m \u001b[1;33m=\u001b[0m \u001b[0mopener\u001b[0m\u001b[1;33m(\u001b[0m\u001b[1;33m)\u001b[0m\u001b[1;33m\u001b[0m\u001b[0m\n\u001b[0m\u001b[0;32m    147\u001b[0m         \u001b[0mself\u001b[0m\u001b[1;33m.\u001b[0m\u001b[0m_autoclose\u001b[0m \u001b[1;33m=\u001b[0m \u001b[0mautoclose\u001b[0m\u001b[1;33m\u001b[0m\u001b[0m\n\u001b[0;32m    148\u001b[0m         \u001b[0mself\u001b[0m\u001b[1;33m.\u001b[0m\u001b[0m_isopen\u001b[0m \u001b[1;33m=\u001b[0m \u001b[1;32mTrue\u001b[0m\u001b[1;33m\u001b[0m\u001b[0m\n",
      "\u001b[1;32m~\\AppData\\Local\\ESRI\\conda\\envs\\clim8\\lib\\site-packages\\xarray\\backends\\scipy_.py\u001b[0m in \u001b[0;36m_open_scipy_netcdf\u001b[1;34m(filename, mode, mmap, version)\u001b[0m\n\u001b[0;32m    102\u001b[0m             \"\"\"\n\u001b[0;32m    103\u001b[0m             \u001b[0merrmsg\u001b[0m \u001b[1;33m+=\u001b[0m \u001b[0mmsg\u001b[0m\u001b[1;33m\u001b[0m\u001b[0m\n\u001b[1;32m--> 104\u001b[1;33m             \u001b[1;32mraise\u001b[0m \u001b[0mTypeError\u001b[0m\u001b[1;33m(\u001b[0m\u001b[0merrmsg\u001b[0m\u001b[1;33m)\u001b[0m\u001b[1;33m\u001b[0m\u001b[0m\n\u001b[0m\u001b[0;32m    105\u001b[0m         \u001b[1;32melse\u001b[0m\u001b[1;33m:\u001b[0m\u001b[1;33m\u001b[0m\u001b[0m\n\u001b[0;32m    106\u001b[0m             \u001b[1;32mraise\u001b[0m\u001b[1;33m\u001b[0m\u001b[0m\n",
      "\u001b[1;31mTypeError\u001b[0m: Error: C:\\Workspace\\Gits\\environ859\\SandBox\\wenhong\\macav2livneh_pr_bcc-csm1-1_r1i1p1_historical_1990_2005_CONUS_monthly.nc is not a valid NetCDF 3 file\n            If this is a NetCDF4 file, you may need to install the\n            netcdf4 library, e.g.,\n\n            $ pip install netcdf4\n            "
     ]
    }
   ],
   "source": [
    "#Create the XArray dataset object\n",
    "ds = xr.open_dataset(fileName)"
   ]
  },
  {
   "cell_type": "code",
   "execution_count": null,
   "metadata": {},
   "outputs": [],
   "source": [
    "precip = ds['precipitation']"
   ]
  },
  {
   "cell_type": "markdown",
   "metadata": {},
   "source": [
    "# Single value"
   ]
  },
  {
   "cell_type": "code",
   "execution_count": null,
   "metadata": {},
   "outputs": [],
   "source": [
    "#Label based indexing\n",
    "val = ds['precipitation'][0,250,300]\n",
    "val.values"
   ]
  },
  {
   "cell_type": "code",
   "execution_count": null,
   "metadata": {},
   "outputs": [],
   "source": [
    "ds['lat'].values[0]"
   ]
  },
  {
   "cell_type": "markdown",
   "metadata": {},
   "source": [
    "# Map of precipitation for a single time snapshot"
   ]
  },
  {
   "cell_type": "code",
   "execution_count": null,
   "metadata": {},
   "outputs": [],
   "source": [
    "#Extract the time at t0\n",
    "t0 = ds['time'].values[0]\n",
    "t0"
   ]
  },
  {
   "cell_type": "code",
   "execution_count": null,
   "metadata": {},
   "outputs": [],
   "source": [
    "#Subset all locations at time=t0\n",
    "map_t0 = ds['precipitation'].loc[t0,:,:]\n",
    "map_t0.plot(figsize=(10,5),cmap=\"YlGnBu\");"
   ]
  },
  {
   "cell_type": "markdown",
   "metadata": {},
   "source": [
    "# Time averaged map"
   ]
  },
  {
   "cell_type": "code",
   "execution_count": null,
   "metadata": {},
   "outputs": [],
   "source": [
    "#Create a time slice\n",
    "startTime = np.datetime64('1995')\n",
    "endTime = np.datetime64('2000')\n",
    "#\n",
    "timeX = slice(startTime,endTime)\n",
    "latX = slice(245,250)\n",
    "lonX = slice(300,305)\n",
    "time_series = ds['precipitation'].sel(time=timeX)\n",
    "m = time_series.mean(axis=0)\n",
    "m.shape"
   ]
  },
  {
   "cell_type": "code",
   "execution_count": null,
   "metadata": {},
   "outputs": [],
   "source": [
    "time_series.median(axis=0).plot(figsize=(10,5),cmap=\"YlGnBu\");"
   ]
  },
  {
   "cell_type": "markdown",
   "metadata": {},
   "source": [
    "# Time series: one location"
   ]
  },
  {
   "cell_type": "code",
   "execution_count": null,
   "metadata": {},
   "outputs": [],
   "source": [
    "#http://xarray.pydata.org/en/stable/indexing.html#nearest-neighbor-lookups\n"
   ]
  },
  {
   "cell_type": "code",
   "execution_count": null,
   "metadata": {},
   "outputs": [],
   "source": [
    "theLats = slice(40,41)\n",
    "theLons = slice(254.5,255)\n",
    "selX = ds.sel(lat=theLats,lon=theLons)\n",
    "selX.precipitation.mean(axis=0).plot(cmap=\"YlGnBu\")"
   ]
  },
  {
   "cell_type": "code",
   "execution_count": null,
   "metadata": {},
   "outputs": [],
   "source": [
    "theLat = 40\n",
    "theLon= 254\n",
    "timeSeries = ds.sel(lat=theLat,lon=theLon,method='nearest')\n",
    "timeSeries.precipitation.plot();"
   ]
  },
  {
   "cell_type": "markdown",
   "metadata": {},
   "source": [
    "# Summer (JJA) average"
   ]
  },
  {
   "cell_type": "code",
   "execution_count": null,
   "metadata": {},
   "outputs": [],
   "source": [
    "#read variables in NETCDF file\n",
    "lon = ds.lon.values\n",
    "lat = ds.lat.values\n",
    "time = ds.time.values\n",
    "precip = ds.precipitation.values"
   ]
  },
  {
   "cell_type": "code",
   "execution_count": null,
   "metadata": {},
   "outputs": [],
   "source": [
    "#return the dimension size of the variable precip\n",
    "[ntime,nlon,nlat] = precip.shape\n",
    "print(ntime,nlon,nlat)"
   ]
  },
  {
   "cell_type": "code",
   "execution_count": null,
   "metadata": {},
   "outputs": [],
   "source": [
    "#return the attribute of the variable precip\n",
    "units = ds.precipitation.units\n",
    "print(units)"
   ]
  },
  {
   "cell_type": "code",
   "execution_count": null,
   "metadata": {},
   "outputs": [],
   "source": [
    "#replace fillvalues with nan(not a number)\n",
    "##-->not needed here as 'fill values' are already set to 'nan'\n",
    "precip[0,90:100,300]"
   ]
  },
  {
   "cell_type": "code",
   "execution_count": null,
   "metadata": {},
   "outputs": [],
   "source": [
    "#JJA slice: year = 1990\n",
    "def getJJA(year = 1990):\n",
    "    start_time = np.datetime64('{}-06-01'.format(year))\n",
    "    end_time = np.datetime64('{}-08-31'.format(year))\n",
    "    data_slice = ds.sel(time=slice(start_time,end_time))\n",
    "    mean_ppt = data_slice.precipitation.mean(axis=0)\n",
    "    return mean_ppt"
   ]
  },
  {
   "cell_type": "code",
   "execution_count": null,
   "metadata": {},
   "outputs": [],
   "source": [
    "#calculate summer(JJA) average\n",
    "nyear = int(ntime/12)\n",
    "year = np.arange(1990,2005)\n",
    "precip_JJA = np.zeros((nyear,nlon,nlat))\n",
    "for ii in range(nyear):\n",
    "    theYear = 1990+ii\n",
    "    precip_JJA[ii,:,:] = getJJA(theYear)"
   ]
  },
  {
   "cell_type": "code",
   "execution_count": null,
   "metadata": {},
   "outputs": [],
   "source": [
    "precip_JJA_climate = precip_JJA.mean(axis=0)"
   ]
  },
  {
   "cell_type": "markdown",
   "metadata": {},
   "source": [
    "# Plot"
   ]
  },
  {
   "cell_type": "code",
   "execution_count": null,
   "metadata": {},
   "outputs": [],
   "source": [
    "#Import the plotting components\n",
    "import matplotlib.pyplot as plt\n",
    "import matplotlib.image as mpimg\n",
    "%matplotlib inline"
   ]
  },
  {
   "cell_type": "code",
   "execution_count": null,
   "metadata": {},
   "outputs": [],
   "source": [
    "precip_JJA_climate_std = precip_JJA.std(axis=0) "
   ]
  },
  {
   "cell_type": "code",
   "execution_count": null,
   "metadata": {},
   "outputs": [],
   "source": [
    "mlon,mlat = np.meshgrid(lon,lat)\n",
    "#First frame: precipitiation\n",
    "plt.figure(figsize=(10,10))\n",
    "plt.subplot(2,1,1)\n",
    "plt.contourf(mlon,mlat,precip_JJA_climate,\n",
    "             linestyles='none',\n",
    "             cmap=\"YlGnBu\",\n",
    "             levels=np.arange(0,250,5))\n",
    "plt.colorbar(label='precipitation '+units)\n",
    "plt.xlabel('Longitude')\n",
    "plt.ylabel('Latitude')\n",
    "plt.title('climatology of the summer precipitation')\n",
    "\n",
    "#Second frame: std deviation\n",
    "plt.subplot(2,1,2)\n",
    "plt.contourf(mlon,mlat,precip_JJA_climate_std,\n",
    "             cmap=\"bone\",\n",
    "             linestyles='none',\n",
    "             levels=np.arange(0,50))\n",
    "plt.colorbar(label='precipitation '+units)\n",
    "plt.xlabel('Longitude')\n",
    "plt.ylabel('Latitude');\n",
    "plt.title('standard deviation of the summer precipitation')\n",
    "\n",
    "plt.show();"
   ]
  },
  {
   "cell_type": "code",
   "execution_count": null,
   "metadata": {},
   "outputs": [],
   "source": []
  }
 ],
 "metadata": {
  "kernelspec": {
   "display_name": "Python 3",
   "language": "python",
   "name": "python3"
  },
  "language_info": {
   "codemirror_mode": {
    "name": "ipython",
    "version": 3
   },
   "file_extension": ".py",
   "mimetype": "text/x-python",
   "name": "python",
   "nbconvert_exporter": "python",
   "pygments_lexer": "ipython3",
   "version": "3.6.6"
  }
 },
 "nbformat": 4,
 "nbformat_minor": 2
}
